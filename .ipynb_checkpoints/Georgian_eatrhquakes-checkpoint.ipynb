{
 "cells": [
  {
   "cell_type": "code",
   "execution_count": 156,
   "id": "e0ff307c",
   "metadata": {},
   "outputs": [],
   "source": [
    "# import libraries\n",
    "\n",
    "import pandas as pd\n",
    "import numpy as np"
   ]
  },
  {
   "cell_type": "code",
   "execution_count": 157,
   "id": "81b181fe",
   "metadata": {},
   "outputs": [
    {
     "data": {
      "text/html": [
       "<div>\n",
       "<style scoped>\n",
       "    .dataframe tbody tr th:only-of-type {\n",
       "        vertical-align: middle;\n",
       "    }\n",
       "\n",
       "    .dataframe tbody tr th {\n",
       "        vertical-align: top;\n",
       "    }\n",
       "\n",
       "    .dataframe thead th {\n",
       "        text-align: right;\n",
       "    }\n",
       "</style>\n",
       "<table border=\"1\" class=\"dataframe\">\n",
       "  <thead>\n",
       "    <tr style=\"text-align: right;\">\n",
       "      <th></th>\n",
       "      <th>time(utc)</th>\n",
       "      <th>magnitude(ml)</th>\n",
       "      <th>depth(km)</th>\n",
       "      <th>lat/long(degree)</th>\n",
       "      <th>region</th>\n",
       "    </tr>\n",
       "  </thead>\n",
       "  <tbody>\n",
       "    <tr>\n",
       "      <th>0</th>\n",
       "      <td>03/09/2023 16:35</td>\n",
       "      <td>5.2</td>\n",
       "      <td>107</td>\n",
       "      <td>40.3335/48.266</td>\n",
       "      <td>Azerbaijan. From Georgia border - 162km.</td>\n",
       "    </tr>\n",
       "    <tr>\n",
       "      <th>1</th>\n",
       "      <td>26/08/2023 12:43</td>\n",
       "      <td>3.7</td>\n",
       "      <td>1</td>\n",
       "      <td>42.816/45.701</td>\n",
       "      <td>Russia. Chechnia. From Georgia border - 31km.</td>\n",
       "    </tr>\n",
       "    <tr>\n",
       "      <th>2</th>\n",
       "      <td>24/08/2023 13:15</td>\n",
       "      <td>3.8</td>\n",
       "      <td>2</td>\n",
       "      <td>41.231/44.28</td>\n",
       "      <td>From Tbilisi  54km. City Dmanisi - South-East ...</td>\n",
       "    </tr>\n",
       "    <tr>\n",
       "      <th>3</th>\n",
       "      <td>14/08/2023 07:05</td>\n",
       "      <td>3.2</td>\n",
       "      <td>24</td>\n",
       "      <td>42.4708/45.0031</td>\n",
       "      <td>Town Khazbegi - South-East - 33km. Village Ch...</td>\n",
       "    </tr>\n",
       "    <tr>\n",
       "      <th>4</th>\n",
       "      <td>28/07/2023 05:55</td>\n",
       "      <td>3.5</td>\n",
       "      <td>8</td>\n",
       "      <td>41.7878/43.1566</td>\n",
       "      <td>City Borjomi - West - 17km. Village Atskuri -...</td>\n",
       "    </tr>\n",
       "  </tbody>\n",
       "</table>\n",
       "</div>"
      ],
      "text/plain": [
       "          time(utc)  magnitude(ml)  depth(km) lat/long(degree)  \\\n",
       "0  03/09/2023 16:35            5.2        107   40.3335/48.266   \n",
       "1  26/08/2023 12:43            3.7          1    42.816/45.701   \n",
       "2  24/08/2023 13:15            3.8          2     41.231/44.28   \n",
       "3  14/08/2023 07:05            3.2         24  42.4708/45.0031   \n",
       "4  28/07/2023 05:55            3.5          8  41.7878/43.1566   \n",
       "\n",
       "                                              region  \n",
       "0        Azerbaijan. From Georgia border - 162km.     \n",
       "1   Russia. Chechnia. From Georgia border - 31km.     \n",
       "2  From Tbilisi  54km. City Dmanisi - South-East ...  \n",
       "3   Town Khazbegi - South-East - 33km. Village Ch...  \n",
       "4   City Borjomi - West - 17km. Village Atskuri -...  "
      ]
     },
     "execution_count": 157,
     "metadata": {},
     "output_type": "execute_result"
    }
   ],
   "source": [
    "# open and observe file\n",
    "\n",
    "file = pd.read_csv('../georgia_earthquakes.csv')\n",
    "file.head()"
   ]
  },
  {
   "cell_type": "code",
   "execution_count": 158,
   "id": "4af8ca9a",
   "metadata": {},
   "outputs": [
    {
     "name": "stderr",
     "output_type": "stream",
     "text": [
      "C:\\TEMP\\ipykernel_2064\\108792626.py:4: FutureWarning: In a future version of pandas all arguments of StringMethods.split except for the argument 'pat' will be keyword-only.\n",
      "  file[['Latitude', 'Longitude']] = file['lat/long(degree)'].str.split('/', 2, expand = True)\n"
     ]
    }
   ],
   "source": [
    "# clean data by splitting columns and dropping unnececary ones\n",
    "\n",
    "file[['Date', 'Time']] = file['time(utc)'].str.split(' ',expand = True)\n",
    "file[['Latitude', 'Longitude']] = file['lat/long(degree)'].str.split('/', 2, expand = True)\n",
    "file = file.drop(['time(utc)', 'lat/long(degree)'], axis = 1)"
   ]
  },
  {
   "cell_type": "code",
   "execution_count": 159,
   "id": "d3e71a18",
   "metadata": {},
   "outputs": [
    {
     "data": {
      "text/html": [
       "<div>\n",
       "<style scoped>\n",
       "    .dataframe tbody tr th:only-of-type {\n",
       "        vertical-align: middle;\n",
       "    }\n",
       "\n",
       "    .dataframe tbody tr th {\n",
       "        vertical-align: top;\n",
       "    }\n",
       "\n",
       "    .dataframe thead th {\n",
       "        text-align: right;\n",
       "    }\n",
       "</style>\n",
       "<table border=\"1\" class=\"dataframe\">\n",
       "  <thead>\n",
       "    <tr style=\"text-align: right;\">\n",
       "      <th></th>\n",
       "      <th>Date</th>\n",
       "      <th>Time</th>\n",
       "      <th>magnitude(ml)</th>\n",
       "      <th>depth(km)</th>\n",
       "      <th>region</th>\n",
       "      <th>Latitude</th>\n",
       "      <th>Longitude</th>\n",
       "    </tr>\n",
       "  </thead>\n",
       "  <tbody>\n",
       "    <tr>\n",
       "      <th>0</th>\n",
       "      <td>03/09/2023</td>\n",
       "      <td>16:35</td>\n",
       "      <td>5.2</td>\n",
       "      <td>107</td>\n",
       "      <td>Azerbaijan. From Georgia border - 162km.</td>\n",
       "      <td>40.3335</td>\n",
       "      <td>48.266</td>\n",
       "    </tr>\n",
       "    <tr>\n",
       "      <th>1</th>\n",
       "      <td>26/08/2023</td>\n",
       "      <td>12:43</td>\n",
       "      <td>3.7</td>\n",
       "      <td>1</td>\n",
       "      <td>Russia. Chechnia. From Georgia border - 31km.</td>\n",
       "      <td>42.816</td>\n",
       "      <td>45.701</td>\n",
       "    </tr>\n",
       "    <tr>\n",
       "      <th>2</th>\n",
       "      <td>24/08/2023</td>\n",
       "      <td>13:15</td>\n",
       "      <td>3.8</td>\n",
       "      <td>2</td>\n",
       "      <td>From Tbilisi  54km. City Dmanisi - South-East ...</td>\n",
       "      <td>41.231</td>\n",
       "      <td>44.28</td>\n",
       "    </tr>\n",
       "    <tr>\n",
       "      <th>3</th>\n",
       "      <td>14/08/2023</td>\n",
       "      <td>07:05</td>\n",
       "      <td>3.2</td>\n",
       "      <td>24</td>\n",
       "      <td>Town Khazbegi - South-East - 33km. Village Ch...</td>\n",
       "      <td>42.4708</td>\n",
       "      <td>45.0031</td>\n",
       "    </tr>\n",
       "    <tr>\n",
       "      <th>4</th>\n",
       "      <td>28/07/2023</td>\n",
       "      <td>05:55</td>\n",
       "      <td>3.5</td>\n",
       "      <td>8</td>\n",
       "      <td>City Borjomi - West - 17km. Village Atskuri -...</td>\n",
       "      <td>41.7878</td>\n",
       "      <td>43.1566</td>\n",
       "    </tr>\n",
       "    <tr>\n",
       "      <th>...</th>\n",
       "      <td>...</td>\n",
       "      <td>...</td>\n",
       "      <td>...</td>\n",
       "      <td>...</td>\n",
       "      <td>...</td>\n",
       "      <td>...</td>\n",
       "      <td>...</td>\n",
       "    </tr>\n",
       "    <tr>\n",
       "      <th>281</th>\n",
       "      <td>25/07/2021</td>\n",
       "      <td>09:02</td>\n",
       "      <td>3.8</td>\n",
       "      <td>12</td>\n",
       "      <td>From Tbilisi  54km. City Tsalka - South-West -...</td>\n",
       "      <td>41.4611</td>\n",
       "      <td>44.0108</td>\n",
       "    </tr>\n",
       "    <tr>\n",
       "      <th>282</th>\n",
       "      <td>20/07/2021</td>\n",
       "      <td>22:03</td>\n",
       "      <td>3.0</td>\n",
       "      <td>10</td>\n",
       "      <td>NaN</td>\n",
       "      <td>43.4898</td>\n",
       "      <td>41.177</td>\n",
       "    </tr>\n",
       "    <tr>\n",
       "      <th>283</th>\n",
       "      <td>16/07/2021</td>\n",
       "      <td>01:04</td>\n",
       "      <td>2.8</td>\n",
       "      <td>10</td>\n",
       "      <td></td>\n",
       "      <td>41.1725</td>\n",
       "      <td>43.9338</td>\n",
       "    </tr>\n",
       "    <tr>\n",
       "      <th>284</th>\n",
       "      <td>14/07/2021</td>\n",
       "      <td>07:41</td>\n",
       "      <td>3.1</td>\n",
       "      <td>13</td>\n",
       "      <td>City Ninotsminda - East - 25km. Village Sameb...</td>\n",
       "      <td>41.1673</td>\n",
       "      <td>43.8848</td>\n",
       "    </tr>\n",
       "    <tr>\n",
       "      <th>285</th>\n",
       "      <td>14/07/2021</td>\n",
       "      <td>07:04</td>\n",
       "      <td>4.0</td>\n",
       "      <td>10</td>\n",
       "      <td>City Ninotsminda - East - 21km. Village Sagha...</td>\n",
       "      <td>41.1793</td>\n",
       "      <td>43.9273</td>\n",
       "    </tr>\n",
       "  </tbody>\n",
       "</table>\n",
       "<p>286 rows × 7 columns</p>\n",
       "</div>"
      ],
      "text/plain": [
       "           Date   Time  magnitude(ml)  depth(km)  \\\n",
       "0    03/09/2023  16:35            5.2        107   \n",
       "1    26/08/2023  12:43            3.7          1   \n",
       "2    24/08/2023  13:15            3.8          2   \n",
       "3    14/08/2023  07:05            3.2         24   \n",
       "4    28/07/2023  05:55            3.5          8   \n",
       "..          ...    ...            ...        ...   \n",
       "281  25/07/2021  09:02            3.8         12   \n",
       "282  20/07/2021  22:03            3.0         10   \n",
       "283  16/07/2021  01:04            2.8         10   \n",
       "284  14/07/2021  07:41            3.1         13   \n",
       "285  14/07/2021  07:04            4.0         10   \n",
       "\n",
       "                                                region Latitude Longitude  \n",
       "0          Azerbaijan. From Georgia border - 162km.     40.3335    48.266  \n",
       "1     Russia. Chechnia. From Georgia border - 31km.      42.816    45.701  \n",
       "2    From Tbilisi  54km. City Dmanisi - South-East ...   41.231     44.28  \n",
       "3     Town Khazbegi - South-East - 33km. Village Ch...  42.4708   45.0031  \n",
       "4     City Borjomi - West - 17km. Village Atskuri -...  41.7878   43.1566  \n",
       "..                                                 ...      ...       ...  \n",
       "281  From Tbilisi  54km. City Tsalka - South-West -...  41.4611   44.0108  \n",
       "282                                                NaN  43.4898    41.177  \n",
       "283                                                     41.1725   43.9338  \n",
       "284   City Ninotsminda - East - 25km. Village Sameb...  41.1673   43.8848  \n",
       "285   City Ninotsminda - East - 21km. Village Sagha...  41.1793   43.9273  \n",
       "\n",
       "[286 rows x 7 columns]"
      ]
     },
     "execution_count": 159,
     "metadata": {},
     "output_type": "execute_result"
    }
   ],
   "source": [
    "# move colmns with Date and Time into the first positions of the DataFrame\n",
    "\n",
    "first_col = file.pop('Date')\n",
    "file.insert(0, 'Date', first_col)\n",
    "\n",
    "second_col = file.pop('Time')\n",
    "file.insert(1, 'Time', second_col)\n",
    "file"
   ]
  },
  {
   "cell_type": "code",
   "execution_count": 160,
   "id": "f7f85d9e",
   "metadata": {},
   "outputs": [],
   "source": [
    "# rename columns for convenience\n",
    "\n",
    "file.columns = map(str.capitalize,file.columns)"
   ]
  },
  {
   "cell_type": "markdown",
   "id": "2860774b",
   "metadata": {},
   "source": [
    "## Duplicates"
   ]
  },
  {
   "cell_type": "code",
   "execution_count": 161,
   "id": "5c5a2713",
   "metadata": {},
   "outputs": [
    {
     "name": "stdout",
     "output_type": "stream",
     "text": [
      "Shape of table with duplicates:  (286, 7)\n",
      "Shape of table without duplicates:  (286, 7)\n"
     ]
    }
   ],
   "source": [
    "# search for duplicated rows\n",
    "with_dups = file\n",
    "print('Shape of table with duplicates: ', with_dups.shape)\n",
    "\n",
    "without_dups = with_dups.drop_duplicates()\n",
    "print('Shape of table without duplicates: ',without_dups.shape)\n",
    "\n",
    "# we see, that there are no duplicated rows, so we can continue using original DataFrame 'file'"
   ]
  },
  {
   "cell_type": "code",
   "execution_count": 162,
   "id": "a9aff425",
   "metadata": {
    "scrolled": true
   },
   "outputs": [
    {
     "name": "stdout",
     "output_type": "stream",
     "text": [
      "Date              object\n",
      "Time              object\n",
      "Magnitude(ml)    float64\n",
      "Depth(km)          int64\n",
      "Region            object\n",
      "Latitude          object\n",
      "Longitude         object\n",
      "dtype: object \n",
      "\n",
      "\n",
      "Date              object\n",
      "Time              object\n",
      "Magnitude(ml)    float64\n",
      "Depth(km)          int64\n",
      "Region            object\n",
      "Latitude         float64\n",
      "Longitude        float64\n",
      "dtype: object\n"
     ]
    }
   ],
   "source": [
    "# check for data types in the DataFrame\n",
    "\n",
    "print(file.dtypes, '\\n\\n')\n",
    "\n",
    "# change Longitude and Latitude data types from object to float\n",
    "file['Longitude'] = file['Longitude'].astype(float)\n",
    "file['Latitude'] = file['Latitude'].astype(float)\n",
    "\n",
    "print(file.dtypes)"
   ]
  },
  {
   "cell_type": "code",
   "execution_count": 163,
   "id": "29eaa33f",
   "metadata": {
    "scrolled": true
   },
   "outputs": [
    {
     "data": {
      "text/plain": [
       "Date              object\n",
       "Time              object\n",
       "Magnitude(ml)    float64\n",
       "Depth(km)          int64\n",
       "Region            string\n",
       "Latitude         float64\n",
       "Longitude        float64\n",
       "dtype: object"
      ]
     },
     "execution_count": 163,
     "metadata": {},
     "output_type": "execute_result"
    }
   ],
   "source": [
    "file['Region'] = file['Region'].astype('string')\n",
    "file.dtypes"
   ]
  },
  {
   "cell_type": "markdown",
   "id": "15a8d74c",
   "metadata": {},
   "source": [
    "## Missing data"
   ]
  },
  {
   "cell_type": "code",
   "execution_count": 164,
   "id": "f00ea600",
   "metadata": {
    "scrolled": true
   },
   "outputs": [
    {
     "name": "stdout",
     "output_type": "stream",
     "text": [
      "Missing data: \n",
      " Date              0\n",
      "Time              0\n",
      "Magnitude(ml)     0\n",
      "Depth(km)         0\n",
      "Region           16\n",
      "Latitude          0\n",
      "Longitude         0\n",
      "dtype: int64\n"
     ]
    }
   ],
   "source": [
    "# check for missing data\n",
    "\n",
    "print('Missing data: \\n',file.isna().sum())"
   ]
  },
  {
   "cell_type": "markdown",
   "id": "c307b327",
   "metadata": {},
   "source": [
    "### Missing data in Region column\n",
    "\n",
    "#### In Region column 16 out of 286 region names are missed. It is less than 6% of all data, which means it would not affect the analysis. Though, some rows might be absolutely empty, and some contain values, like 'NaN' or 'null' in different formats, so it's better to make them look the same."
   ]
  },
  {
   "cell_type": "code",
   "execution_count": 165,
   "id": "14621fd5",
   "metadata": {},
   "outputs": [],
   "source": [
    "file['Region'] = file['Region'].str.strip() # remove spaces at the begining and at the end of every cell\n",
    "file['Region'].fillna('null', inplace = True) # change empty cells with \"null\" value"
   ]
  },
  {
   "cell_type": "code",
   "execution_count": 166,
   "id": "7b932ae1",
   "metadata": {},
   "outputs": [],
   "source": [
    "# several cells in Region columns still stay empty,\n",
    "# therefore we change them in a different way\n",
    "\n",
    "change_rgn = []\n",
    "for string in file['Region']:\n",
    "    change_rgn.append(string)\n",
    "    \n",
    "for i in range(len(change_rgn)):\n",
    "    if change_rgn[i] == '':\n",
    "        change_rgn[i] = 'null'\n",
    "file['Region'] = change_rgn"
   ]
  },
  {
   "cell_type": "markdown",
   "id": "08e6860b",
   "metadata": {},
   "source": [
    "### Missing data in coordinates columns\n",
    "\n",
    "#### Longitude and Latitude null values may not have been detected because of their 0.000 format. There fore we should check min and max values of this columns and look for missing data manually."
   ]
  },
  {
   "cell_type": "code",
   "execution_count": 128,
   "id": "08671ff0",
   "metadata": {
    "scrolled": false
   },
   "outputs": [
    {
     "name": "stdout",
     "output_type": "stream",
     "text": [
      "Longitude min:  32.06 , max:  49.748\n",
      "Latitude min:  37.01 , max:  44.0651 \n",
      "\n",
      "\n",
      "Empty DataFrame\n",
      "Columns: [Date, Time, Magnitude(ml), Depth(km), Region, Latitude, Longitude]\n",
      "Index: []\n",
      "Empty DataFrame\n",
      "Columns: [Date, Time, Magnitude(ml), Depth(km), Region, Latitude, Longitude]\n",
      "Index: []\n"
     ]
    }
   ],
   "source": [
    "# examine min and max values of Longitude and Latitude columns\n",
    "print('Longitude min: ', min(file['Longitude']), ', max: ', max(file['Longitude']))\n",
    "print('Latitude min: ', min(file['Latitude']), ', max: ', max(file['Latitude']), '\\n\\n')\n",
    "\n",
    "# search for null values\n",
    "print(file[file['Longitude']<30])\n",
    "print(file[file['Latitude']<30])"
   ]
  },
  {
   "cell_type": "markdown",
   "id": "9bf461af",
   "metadata": {},
   "source": [
    "#### No missing values in Longitude and Latitude columns have been detected."
   ]
  },
  {
   "cell_type": "markdown",
   "id": "260045fe",
   "metadata": {},
   "source": [
    "## Changing column configuration\n",
    "\n",
    "### Region column can be splitted into two. First will contain only the name of the country or city, where erruption occurred, an second - more concrete localization (e.g. direction and distance)"
   ]
  },
  {
   "cell_type": "code",
   "execution_count": 167,
   "id": "75d0b361",
   "metadata": {},
   "outputs": [
    {
     "name": "stderr",
     "output_type": "stream",
     "text": [
      "C:\\TEMP\\ipykernel_2064\\811136624.py:1: FutureWarning: In a future version of pandas all arguments of StringMethods.split except for the argument 'pat' will be keyword-only.\n",
      "  file[['Country/City', 'Localization']] = file['Region'].str.split('.', 1, expand = True)\n"
     ]
    }
   ],
   "source": [
    "file[['Country/City', 'Localization']] = file['Region'].str.split('.', 1, expand = True)"
   ]
  },
  {
   "cell_type": "markdown",
   "id": "9ca18254",
   "metadata": {},
   "source": [
    "#### In Country/City column some cell still contain too much unnececarry information, which should be stripped or changed"
   ]
  },
  {
   "cell_type": "code",
   "execution_count": 173,
   "id": "917cbb59",
   "metadata": {},
   "outputs": [],
   "source": [
    "change_country_city = []\n",
    "for string in file['Country/City']:\n",
    "    string = string.split(' ')\n",
    "    if len(string) > 1:\n",
    "        string = [' '.join(string[:2])]\n",
    "    change_country_city.append(string)\n",
    "    \n",
    "    \n",
    "#unlisting nested list\n",
    "\n",
    "unlisted=[]\n",
    "for string in change_country_city:\n",
    "    for i in string:\n",
    "        unlisted.append(i)\n",
    "         \n",
    "            \n",
    "#changing \"From\" to \"Near\" for better readability\n",
    "\n",
    "for index in range(len(unlisted)):\n",
    "    if 'From' in unlisted[index]:\n",
    "        unlisted[index] = unlisted[index].replace('From', 'Near')\n",
    "\n",
    "file['Country/City'] = unlisted\n"
   ]
  },
  {
   "cell_type": "code",
   "execution_count": 175,
   "id": "23b03bf0",
   "metadata": {
    "scrolled": true
   },
   "outputs": [],
   "source": [
    "# changing collumns placement for table to become more structurized\n",
    "\n",
    "country_col_5 = file.pop('Country/City')\n",
    "file.insert(5,'Country/City', country_col_5)\n",
    "\n",
    "loc_col_6 = file.pop('Localization')\n",
    "file.insert(6,'Localization', loc_col_6)"
   ]
  },
  {
   "cell_type": "code",
   "execution_count": 177,
   "id": "584c05c2",
   "metadata": {},
   "outputs": [],
   "source": [
    "# Localization column still has some empty cells called differently, changing them to 'null'\n",
    "file['Localization'].fillna('null', inplace = True)"
   ]
  },
  {
   "cell_type": "code",
   "execution_count": 178,
   "id": "e69fb3fc",
   "metadata": {},
   "outputs": [
    {
     "data": {
      "text/html": [
       "<div>\n",
       "<style scoped>\n",
       "    .dataframe tbody tr th:only-of-type {\n",
       "        vertical-align: middle;\n",
       "    }\n",
       "\n",
       "    .dataframe tbody tr th {\n",
       "        vertical-align: top;\n",
       "    }\n",
       "\n",
       "    .dataframe thead th {\n",
       "        text-align: right;\n",
       "    }\n",
       "</style>\n",
       "<table border=\"1\" class=\"dataframe\">\n",
       "  <thead>\n",
       "    <tr style=\"text-align: right;\">\n",
       "      <th></th>\n",
       "      <th>Date</th>\n",
       "      <th>Time</th>\n",
       "      <th>Magnitude(ml)</th>\n",
       "      <th>Depth(km)</th>\n",
       "      <th>Region</th>\n",
       "      <th>Country/City</th>\n",
       "      <th>Localization</th>\n",
       "      <th>Latitude</th>\n",
       "      <th>Longitude</th>\n",
       "    </tr>\n",
       "  </thead>\n",
       "  <tbody>\n",
       "    <tr>\n",
       "      <th>0</th>\n",
       "      <td>03/09/2023</td>\n",
       "      <td>16:35</td>\n",
       "      <td>5.2</td>\n",
       "      <td>107</td>\n",
       "      <td>Azerbaijan. From Georgia border - 162km.</td>\n",
       "      <td>Azerbaijan</td>\n",
       "      <td>From Georgia border - 162km.</td>\n",
       "      <td>40.3335</td>\n",
       "      <td>48.2660</td>\n",
       "    </tr>\n",
       "    <tr>\n",
       "      <th>1</th>\n",
       "      <td>26/08/2023</td>\n",
       "      <td>12:43</td>\n",
       "      <td>3.7</td>\n",
       "      <td>1</td>\n",
       "      <td>Russia. Chechnia. From Georgia border - 31km.</td>\n",
       "      <td>Russia</td>\n",
       "      <td>Chechnia. From Georgia border - 31km.</td>\n",
       "      <td>42.8160</td>\n",
       "      <td>45.7010</td>\n",
       "    </tr>\n",
       "    <tr>\n",
       "      <th>2</th>\n",
       "      <td>24/08/2023</td>\n",
       "      <td>13:15</td>\n",
       "      <td>3.8</td>\n",
       "      <td>2</td>\n",
       "      <td>From Tbilisi  54km. City Dmanisi - South-East ...</td>\n",
       "      <td>Near Tbilisi</td>\n",
       "      <td>City Dmanisi - South-East - 10km. Village Gor...</td>\n",
       "      <td>41.2310</td>\n",
       "      <td>44.2800</td>\n",
       "    </tr>\n",
       "    <tr>\n",
       "      <th>3</th>\n",
       "      <td>14/08/2023</td>\n",
       "      <td>07:05</td>\n",
       "      <td>3.2</td>\n",
       "      <td>24</td>\n",
       "      <td>Town Khazbegi - South-East - 33km. Village Cha...</td>\n",
       "      <td>Town Khazbegi</td>\n",
       "      <td>Village Chalisofeli - 2km.</td>\n",
       "      <td>42.4708</td>\n",
       "      <td>45.0031</td>\n",
       "    </tr>\n",
       "    <tr>\n",
       "      <th>4</th>\n",
       "      <td>28/07/2023</td>\n",
       "      <td>05:55</td>\n",
       "      <td>3.5</td>\n",
       "      <td>8</td>\n",
       "      <td>City Borjomi - West - 17km. Village Atskuri - ...</td>\n",
       "      <td>City Borjomi</td>\n",
       "      <td>Village Atskuri - 5km.</td>\n",
       "      <td>41.7878</td>\n",
       "      <td>43.1566</td>\n",
       "    </tr>\n",
       "    <tr>\n",
       "      <th>...</th>\n",
       "      <td>...</td>\n",
       "      <td>...</td>\n",
       "      <td>...</td>\n",
       "      <td>...</td>\n",
       "      <td>...</td>\n",
       "      <td>...</td>\n",
       "      <td>...</td>\n",
       "      <td>...</td>\n",
       "      <td>...</td>\n",
       "    </tr>\n",
       "    <tr>\n",
       "      <th>281</th>\n",
       "      <td>25/07/2021</td>\n",
       "      <td>09:02</td>\n",
       "      <td>3.8</td>\n",
       "      <td>12</td>\n",
       "      <td>From Tbilisi  54km. City Tsalka - South-West -...</td>\n",
       "      <td>Near Tbilisi</td>\n",
       "      <td>City Tsalka - South-West - 13km. Village Sala...</td>\n",
       "      <td>41.4611</td>\n",
       "      <td>44.0108</td>\n",
       "    </tr>\n",
       "    <tr>\n",
       "      <th>282</th>\n",
       "      <td>20/07/2021</td>\n",
       "      <td>22:03</td>\n",
       "      <td>3.0</td>\n",
       "      <td>10</td>\n",
       "      <td>null</td>\n",
       "      <td>null</td>\n",
       "      <td>null</td>\n",
       "      <td>43.4898</td>\n",
       "      <td>41.1770</td>\n",
       "    </tr>\n",
       "    <tr>\n",
       "      <th>283</th>\n",
       "      <td>16/07/2021</td>\n",
       "      <td>01:04</td>\n",
       "      <td>2.8</td>\n",
       "      <td>10</td>\n",
       "      <td>null</td>\n",
       "      <td>null</td>\n",
       "      <td>null</td>\n",
       "      <td>41.1725</td>\n",
       "      <td>43.9338</td>\n",
       "    </tr>\n",
       "    <tr>\n",
       "      <th>284</th>\n",
       "      <td>14/07/2021</td>\n",
       "      <td>07:41</td>\n",
       "      <td>3.1</td>\n",
       "      <td>13</td>\n",
       "      <td>City Ninotsminda - East - 25km. Village Sameba...</td>\n",
       "      <td>City Ninotsminda</td>\n",
       "      <td>Village Sameba - 7km.</td>\n",
       "      <td>41.1673</td>\n",
       "      <td>43.8848</td>\n",
       "    </tr>\n",
       "    <tr>\n",
       "      <th>285</th>\n",
       "      <td>14/07/2021</td>\n",
       "      <td>07:04</td>\n",
       "      <td>4.0</td>\n",
       "      <td>10</td>\n",
       "      <td>City Ninotsminda - East - 21km. Village Sagham...</td>\n",
       "      <td>City Ninotsminda</td>\n",
       "      <td>Village Saghamo - 10km.</td>\n",
       "      <td>41.1793</td>\n",
       "      <td>43.9273</td>\n",
       "    </tr>\n",
       "  </tbody>\n",
       "</table>\n",
       "<p>286 rows × 9 columns</p>\n",
       "</div>"
      ],
      "text/plain": [
       "           Date   Time  Magnitude(ml)  Depth(km)  \\\n",
       "0    03/09/2023  16:35            5.2        107   \n",
       "1    26/08/2023  12:43            3.7          1   \n",
       "2    24/08/2023  13:15            3.8          2   \n",
       "3    14/08/2023  07:05            3.2         24   \n",
       "4    28/07/2023  05:55            3.5          8   \n",
       "..          ...    ...            ...        ...   \n",
       "281  25/07/2021  09:02            3.8         12   \n",
       "282  20/07/2021  22:03            3.0         10   \n",
       "283  16/07/2021  01:04            2.8         10   \n",
       "284  14/07/2021  07:41            3.1         13   \n",
       "285  14/07/2021  07:04            4.0         10   \n",
       "\n",
       "                                                Region      Country/City  \\\n",
       "0             Azerbaijan. From Georgia border - 162km.        Azerbaijan   \n",
       "1        Russia. Chechnia. From Georgia border - 31km.            Russia   \n",
       "2    From Tbilisi  54km. City Dmanisi - South-East ...      Near Tbilisi   \n",
       "3    Town Khazbegi - South-East - 33km. Village Cha...     Town Khazbegi   \n",
       "4    City Borjomi - West - 17km. Village Atskuri - ...      City Borjomi   \n",
       "..                                                 ...               ...   \n",
       "281  From Tbilisi  54km. City Tsalka - South-West -...      Near Tbilisi   \n",
       "282                                               null              null   \n",
       "283                                               null              null   \n",
       "284  City Ninotsminda - East - 25km. Village Sameba...  City Ninotsminda   \n",
       "285  City Ninotsminda - East - 21km. Village Sagham...  City Ninotsminda   \n",
       "\n",
       "                                          Localization  Latitude  Longitude  \n",
       "0                         From Georgia border - 162km.   40.3335    48.2660  \n",
       "1                Chechnia. From Georgia border - 31km.   42.8160    45.7010  \n",
       "2     City Dmanisi - South-East - 10km. Village Gor...   41.2310    44.2800  \n",
       "3                           Village Chalisofeli - 2km.   42.4708    45.0031  \n",
       "4                               Village Atskuri - 5km.   41.7878    43.1566  \n",
       "..                                                 ...       ...        ...  \n",
       "281   City Tsalka - South-West - 13km. Village Sala...   41.4611    44.0108  \n",
       "282                                               null   43.4898    41.1770  \n",
       "283                                               null   41.1725    43.9338  \n",
       "284                              Village Sameba - 7km.   41.1673    43.8848  \n",
       "285                            Village Saghamo - 10km.   41.1793    43.9273  \n",
       "\n",
       "[286 rows x 9 columns]"
      ]
     },
     "execution_count": 178,
     "metadata": {},
     "output_type": "execute_result"
    }
   ],
   "source": [
    "file"
   ]
  },
  {
   "cell_type": "code",
   "execution_count": 179,
   "id": "2a418031",
   "metadata": {},
   "outputs": [],
   "source": [
    "# save cleaned file to make visualizations in Tableau\n",
    "\n",
    "file.to_csv('Earthquakes_cleaned.csv')"
   ]
  }
 ],
 "metadata": {
  "kernelspec": {
   "display_name": "Python 3 (ipykernel)",
   "language": "python",
   "name": "python3"
  },
  "language_info": {
   "codemirror_mode": {
    "name": "ipython",
    "version": 3
   },
   "file_extension": ".py",
   "mimetype": "text/x-python",
   "name": "python",
   "nbconvert_exporter": "python",
   "pygments_lexer": "ipython3",
   "version": "3.10.9"
  }
 },
 "nbformat": 4,
 "nbformat_minor": 5
}
