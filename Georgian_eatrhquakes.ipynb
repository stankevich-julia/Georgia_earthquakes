{
 "cells": [
  {
   "cell_type": "code",
   "execution_count": 75,
   "id": "e0ff307c",
   "metadata": {},
   "outputs": [],
   "source": [
    "# import libraries\n",
    "\n",
    "import pandas as pd\n",
    "import numpy as np"
   ]
  },
  {
   "cell_type": "code",
   "execution_count": 101,
   "id": "81b181fe",
   "metadata": {},
   "outputs": [
    {
     "data": {
      "text/html": [
       "<div>\n",
       "<style scoped>\n",
       "    .dataframe tbody tr th:only-of-type {\n",
       "        vertical-align: middle;\n",
       "    }\n",
       "\n",
       "    .dataframe tbody tr th {\n",
       "        vertical-align: top;\n",
       "    }\n",
       "\n",
       "    .dataframe thead th {\n",
       "        text-align: right;\n",
       "    }\n",
       "</style>\n",
       "<table border=\"1\" class=\"dataframe\">\n",
       "  <thead>\n",
       "    <tr style=\"text-align: right;\">\n",
       "      <th></th>\n",
       "      <th>time(utc)</th>\n",
       "      <th>magnitude(ml)</th>\n",
       "      <th>depth(km)</th>\n",
       "      <th>lat/long(degree)</th>\n",
       "      <th>region</th>\n",
       "    </tr>\n",
       "  </thead>\n",
       "  <tbody>\n",
       "    <tr>\n",
       "      <th>0</th>\n",
       "      <td>03/09/2023 16:35</td>\n",
       "      <td>5.2</td>\n",
       "      <td>107</td>\n",
       "      <td>40.3335/48.266</td>\n",
       "      <td>Azerbaijan. From Georgia border - 162km.</td>\n",
       "    </tr>\n",
       "    <tr>\n",
       "      <th>1</th>\n",
       "      <td>26/08/2023 12:43</td>\n",
       "      <td>3.7</td>\n",
       "      <td>1</td>\n",
       "      <td>42.816/45.701</td>\n",
       "      <td>Russia. Chechnia. From Georgia border - 31km.</td>\n",
       "    </tr>\n",
       "    <tr>\n",
       "      <th>2</th>\n",
       "      <td>24/08/2023 13:15</td>\n",
       "      <td>3.8</td>\n",
       "      <td>2</td>\n",
       "      <td>41.231/44.28</td>\n",
       "      <td>From Tbilisi  54km. City Dmanisi - South-East ...</td>\n",
       "    </tr>\n",
       "    <tr>\n",
       "      <th>3</th>\n",
       "      <td>14/08/2023 07:05</td>\n",
       "      <td>3.2</td>\n",
       "      <td>24</td>\n",
       "      <td>42.4708/45.0031</td>\n",
       "      <td>Town Khazbegi - South-East - 33km. Village Ch...</td>\n",
       "    </tr>\n",
       "    <tr>\n",
       "      <th>4</th>\n",
       "      <td>28/07/2023 05:55</td>\n",
       "      <td>3.5</td>\n",
       "      <td>8</td>\n",
       "      <td>41.7878/43.1566</td>\n",
       "      <td>City Borjomi - West - 17km. Village Atskuri -...</td>\n",
       "    </tr>\n",
       "  </tbody>\n",
       "</table>\n",
       "</div>"
      ],
      "text/plain": [
       "          time(utc)  magnitude(ml)  depth(km) lat/long(degree)  \\\n",
       "0  03/09/2023 16:35            5.2        107   40.3335/48.266   \n",
       "1  26/08/2023 12:43            3.7          1    42.816/45.701   \n",
       "2  24/08/2023 13:15            3.8          2     41.231/44.28   \n",
       "3  14/08/2023 07:05            3.2         24  42.4708/45.0031   \n",
       "4  28/07/2023 05:55            3.5          8  41.7878/43.1566   \n",
       "\n",
       "                                              region  \n",
       "0        Azerbaijan. From Georgia border - 162km.     \n",
       "1   Russia. Chechnia. From Georgia border - 31km.     \n",
       "2  From Tbilisi  54km. City Dmanisi - South-East ...  \n",
       "3   Town Khazbegi - South-East - 33km. Village Ch...  \n",
       "4   City Borjomi - West - 17km. Village Atskuri -...  "
      ]
     },
     "execution_count": 101,
     "metadata": {},
     "output_type": "execute_result"
    }
   ],
   "source": [
    "# open and observe file\n",
    "\n",
    "file = pd.read_csv('../georgia_earthquakes.csv')\n",
    "file.head()"
   ]
  },
  {
   "cell_type": "code",
   "execution_count": 102,
   "id": "4af8ca9a",
   "metadata": {},
   "outputs": [],
   "source": [
    "# clean data by splitting columns and dropping unnececary ones\n",
    "\n",
    "file[['Date', 'Time']] = file['time(utc)'].str.split(' ',expand = True)\n",
    "file[['Latitude', 'Longitude']] = file['lat/long(degree)'].str.split('/', expand = True)\n",
    "file = file.drop(['time(utc)', 'lat/long(degree)'], axis = 1)"
   ]
  },
  {
   "cell_type": "code",
   "execution_count": 103,
   "id": "d3e71a18",
   "metadata": {},
   "outputs": [
    {
     "data": {
      "text/html": [
       "<div>\n",
       "<style scoped>\n",
       "    .dataframe tbody tr th:only-of-type {\n",
       "        vertical-align: middle;\n",
       "    }\n",
       "\n",
       "    .dataframe tbody tr th {\n",
       "        vertical-align: top;\n",
       "    }\n",
       "\n",
       "    .dataframe thead th {\n",
       "        text-align: right;\n",
       "    }\n",
       "</style>\n",
       "<table border=\"1\" class=\"dataframe\">\n",
       "  <thead>\n",
       "    <tr style=\"text-align: right;\">\n",
       "      <th></th>\n",
       "      <th>Date</th>\n",
       "      <th>Time</th>\n",
       "      <th>magnitude(ml)</th>\n",
       "      <th>depth(km)</th>\n",
       "      <th>region</th>\n",
       "      <th>Latitude</th>\n",
       "      <th>Longitude</th>\n",
       "    </tr>\n",
       "  </thead>\n",
       "  <tbody>\n",
       "    <tr>\n",
       "      <th>0</th>\n",
       "      <td>03/09/2023</td>\n",
       "      <td>16:35</td>\n",
       "      <td>5.2</td>\n",
       "      <td>107</td>\n",
       "      <td>Azerbaijan. From Georgia border - 162km.</td>\n",
       "      <td>40.3335</td>\n",
       "      <td>48.266</td>\n",
       "    </tr>\n",
       "    <tr>\n",
       "      <th>1</th>\n",
       "      <td>26/08/2023</td>\n",
       "      <td>12:43</td>\n",
       "      <td>3.7</td>\n",
       "      <td>1</td>\n",
       "      <td>Russia. Chechnia. From Georgia border - 31km.</td>\n",
       "      <td>42.816</td>\n",
       "      <td>45.701</td>\n",
       "    </tr>\n",
       "    <tr>\n",
       "      <th>2</th>\n",
       "      <td>24/08/2023</td>\n",
       "      <td>13:15</td>\n",
       "      <td>3.8</td>\n",
       "      <td>2</td>\n",
       "      <td>From Tbilisi  54km. City Dmanisi - South-East ...</td>\n",
       "      <td>41.231</td>\n",
       "      <td>44.28</td>\n",
       "    </tr>\n",
       "    <tr>\n",
       "      <th>3</th>\n",
       "      <td>14/08/2023</td>\n",
       "      <td>07:05</td>\n",
       "      <td>3.2</td>\n",
       "      <td>24</td>\n",
       "      <td>Town Khazbegi - South-East - 33km. Village Ch...</td>\n",
       "      <td>42.4708</td>\n",
       "      <td>45.0031</td>\n",
       "    </tr>\n",
       "    <tr>\n",
       "      <th>4</th>\n",
       "      <td>28/07/2023</td>\n",
       "      <td>05:55</td>\n",
       "      <td>3.5</td>\n",
       "      <td>8</td>\n",
       "      <td>City Borjomi - West - 17km. Village Atskuri -...</td>\n",
       "      <td>41.7878</td>\n",
       "      <td>43.1566</td>\n",
       "    </tr>\n",
       "    <tr>\n",
       "      <th>...</th>\n",
       "      <td>...</td>\n",
       "      <td>...</td>\n",
       "      <td>...</td>\n",
       "      <td>...</td>\n",
       "      <td>...</td>\n",
       "      <td>...</td>\n",
       "      <td>...</td>\n",
       "    </tr>\n",
       "    <tr>\n",
       "      <th>281</th>\n",
       "      <td>25/07/2021</td>\n",
       "      <td>09:02</td>\n",
       "      <td>3.8</td>\n",
       "      <td>12</td>\n",
       "      <td>From Tbilisi  54km. City Tsalka - South-West -...</td>\n",
       "      <td>41.4611</td>\n",
       "      <td>44.0108</td>\n",
       "    </tr>\n",
       "    <tr>\n",
       "      <th>282</th>\n",
       "      <td>20/07/2021</td>\n",
       "      <td>22:03</td>\n",
       "      <td>3.0</td>\n",
       "      <td>10</td>\n",
       "      <td>NaN</td>\n",
       "      <td>43.4898</td>\n",
       "      <td>41.177</td>\n",
       "    </tr>\n",
       "    <tr>\n",
       "      <th>283</th>\n",
       "      <td>16/07/2021</td>\n",
       "      <td>01:04</td>\n",
       "      <td>2.8</td>\n",
       "      <td>10</td>\n",
       "      <td></td>\n",
       "      <td>41.1725</td>\n",
       "      <td>43.9338</td>\n",
       "    </tr>\n",
       "    <tr>\n",
       "      <th>284</th>\n",
       "      <td>14/07/2021</td>\n",
       "      <td>07:41</td>\n",
       "      <td>3.1</td>\n",
       "      <td>13</td>\n",
       "      <td>City Ninotsminda - East - 25km. Village Sameb...</td>\n",
       "      <td>41.1673</td>\n",
       "      <td>43.8848</td>\n",
       "    </tr>\n",
       "    <tr>\n",
       "      <th>285</th>\n",
       "      <td>14/07/2021</td>\n",
       "      <td>07:04</td>\n",
       "      <td>4.0</td>\n",
       "      <td>10</td>\n",
       "      <td>City Ninotsminda - East - 21km. Village Sagha...</td>\n",
       "      <td>41.1793</td>\n",
       "      <td>43.9273</td>\n",
       "    </tr>\n",
       "  </tbody>\n",
       "</table>\n",
       "<p>286 rows × 7 columns</p>\n",
       "</div>"
      ],
      "text/plain": [
       "           Date   Time  magnitude(ml)  depth(km)  \\\n",
       "0    03/09/2023  16:35            5.2        107   \n",
       "1    26/08/2023  12:43            3.7          1   \n",
       "2    24/08/2023  13:15            3.8          2   \n",
       "3    14/08/2023  07:05            3.2         24   \n",
       "4    28/07/2023  05:55            3.5          8   \n",
       "..          ...    ...            ...        ...   \n",
       "281  25/07/2021  09:02            3.8         12   \n",
       "282  20/07/2021  22:03            3.0         10   \n",
       "283  16/07/2021  01:04            2.8         10   \n",
       "284  14/07/2021  07:41            3.1         13   \n",
       "285  14/07/2021  07:04            4.0         10   \n",
       "\n",
       "                                                region Latitude Longitude  \n",
       "0          Azerbaijan. From Georgia border - 162km.     40.3335    48.266  \n",
       "1     Russia. Chechnia. From Georgia border - 31km.      42.816    45.701  \n",
       "2    From Tbilisi  54km. City Dmanisi - South-East ...   41.231     44.28  \n",
       "3     Town Khazbegi - South-East - 33km. Village Ch...  42.4708   45.0031  \n",
       "4     City Borjomi - West - 17km. Village Atskuri -...  41.7878   43.1566  \n",
       "..                                                 ...      ...       ...  \n",
       "281  From Tbilisi  54km. City Tsalka - South-West -...  41.4611   44.0108  \n",
       "282                                                NaN  43.4898    41.177  \n",
       "283                                                     41.1725   43.9338  \n",
       "284   City Ninotsminda - East - 25km. Village Sameb...  41.1673   43.8848  \n",
       "285   City Ninotsminda - East - 21km. Village Sagha...  41.1793   43.9273  \n",
       "\n",
       "[286 rows x 7 columns]"
      ]
     },
     "execution_count": 103,
     "metadata": {},
     "output_type": "execute_result"
    }
   ],
   "source": [
    "# move colmns with Date and Time into the first positions of the DataFrame\n",
    "\n",
    "first_col = file.pop('Date')\n",
    "file.insert(0, 'Date', first_col)\n",
    "\n",
    "second_col = file.pop('Time')\n",
    "file.insert(1, 'Time', second_col)\n",
    "file"
   ]
  },
  {
   "cell_type": "code",
   "execution_count": 104,
   "id": "f7f85d9e",
   "metadata": {},
   "outputs": [],
   "source": [
    "# rename columns for convenience\n",
    "\n",
    "file.columns = map(str.capitalize,file.columns)"
   ]
  },
  {
   "cell_type": "code",
   "execution_count": 105,
   "id": "5c5a2713",
   "metadata": {},
   "outputs": [
    {
     "name": "stdout",
     "output_type": "stream",
     "text": [
      "Shape of table with duplicates:  (286, 7)\n",
      "Shape of table without duplicates:  (286, 7)\n"
     ]
    }
   ],
   "source": [
    "# search for duplicated rows\n",
    "with_dups = file\n",
    "print('Shape of table with duplicates: ', with_dups.shape)\n",
    "\n",
    "without_dups = with_dups.drop_duplicates()\n",
    "print('Shape of table without duplicates: ',without_dups.shape)\n",
    "\n",
    "# we see, that there are no duplicated rows, so we can continue using original DataFrame 'file'"
   ]
  },
  {
   "cell_type": "code",
   "execution_count": 106,
   "id": "a9aff425",
   "metadata": {
    "scrolled": true
   },
   "outputs": [
    {
     "name": "stdout",
     "output_type": "stream",
     "text": [
      "Date              object\n",
      "Time              object\n",
      "Magnitude(ml)    float64\n",
      "Depth(km)          int64\n",
      "Region            object\n",
      "Latitude          object\n",
      "Longitude         object\n",
      "dtype: object \n",
      "\n",
      "\n",
      "Date              object\n",
      "Time              object\n",
      "Magnitude(ml)    float64\n",
      "Depth(km)          int64\n",
      "Region            object\n",
      "Latitude         float64\n",
      "Longitude        float64\n",
      "dtype: object\n"
     ]
    }
   ],
   "source": [
    "# check for data types in the DataFrame\n",
    "\n",
    "print(file.dtypes, '\\n\\n')\n",
    "\n",
    "# change Longitude and Latitude data types from object to float\n",
    "file['Longitude'] = file['Longitude'].astype('float')\n",
    "file['Latitude'] = file['Latitude'].astype('float')\n",
    "\n",
    "print(file.dtypes)"
   ]
  },
  {
   "cell_type": "code",
   "execution_count": 108,
   "id": "f00ea600",
   "metadata": {},
   "outputs": [
    {
     "name": "stdout",
     "output_type": "stream",
     "text": [
      "Missing data: \n",
      " Date              0\n",
      "Time              0\n",
      "Magnitude(ml)     0\n",
      "Depth(km)         0\n",
      "Region           16\n",
      "Latitude          0\n",
      "Longitude         0\n",
      "dtype: int64\n"
     ]
    }
   ],
   "source": [
    "# check for missing data\n",
    "\n",
    "print('Missing data: \\n',file.isna().sum())"
   ]
  },
  {
   "cell_type": "markdown",
   "id": "c307b327",
   "metadata": {},
   "source": [
    "In Region column 16 out of 286 region names are missed. We could "
   ]
  },
  {
   "cell_type": "code",
   "execution_count": 120,
   "id": "08671ff0",
   "metadata": {},
   "outputs": [
    {
     "name": "stdout",
     "output_type": "stream",
     "text": [
      "Empty DataFrame\n",
      "Columns: [Date, Time, Magnitude(ml), Depth(km), Region, Latitude, Longitude]\n",
      "Index: []\n",
      "Empty DataFrame\n",
      "Columns: [Date, Time, Magnitude(ml), Depth(km), Region, Latitude, Longitude]\n",
      "Index: []\n"
     ]
    }
   ],
   "source": [
    "print(file[file['Longitude']<30])\n",
    "print(file[file['Latitude']<30])"
   ]
  },
  {
   "cell_type": "markdown",
   "id": "9bf461af",
   "metadata": {},
   "source": []
  }
 ],
 "metadata": {
  "kernelspec": {
   "display_name": "Python 3 (ipykernel)",
   "language": "python",
   "name": "python3"
  },
  "language_info": {
   "codemirror_mode": {
    "name": "ipython",
    "version": 3
   },
   "file_extension": ".py",
   "mimetype": "text/x-python",
   "name": "python",
   "nbconvert_exporter": "python",
   "pygments_lexer": "ipython3",
   "version": "3.10.9"
  }
 },
 "nbformat": 4,
 "nbformat_minor": 5
}
